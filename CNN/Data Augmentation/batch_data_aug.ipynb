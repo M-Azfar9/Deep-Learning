{
 "cells": [
  {
   "cell_type": "code",
   "execution_count": 2,
   "id": "9b7bc3a3",
   "metadata": {},
   "outputs": [],
   "source": [
    "from keras.preprocessing import image\n",
    "from tensorflow.keras.preprocessing.image import ImageDataGenerator"
   ]
  },
  {
   "cell_type": "code",
   "execution_count": 3,
   "id": "fb92ce5f",
   "metadata": {},
   "outputs": [],
   "source": [
    "batch_size = 16\n",
    "\n",
    "\n",
    "# augmentation configuration\n",
    "train_datagen = ImageDataGenerator(\n",
    "    rescale=1./255,\n",
    "    rotation_range = 30,\n",
    "    shear_range = 0.2, \n",
    "    zoom_range = 0.2, \n",
    "    horizontal_flip = True, \n",
    "    vertical_flip = True,\n",
    "    width_shift_range = 0.2,\n",
    "    height_shift_range = 0.2,\n",
    ")\n",
    "\n",
    "test_datagen = ImageDataGenerator(rescale=1./255)"
   ]
  },
  {
   "cell_type": "code",
   "execution_count": 11,
   "id": "75f146be",
   "metadata": {},
   "outputs": [
    {
     "name": "stdout",
     "output_type": "stream",
     "text": [
      "Found 14 images belonging to 3 classes.\n"
     ]
    }
   ],
   "source": [
    "train_generator = train_datagen.flow_from_directory(\n",
    "    'train',\n",
    "    target_size=(150, 150),\n",
    "    batch_size=batch_size,\n",
    "    class_mode='binary',\n",
    "    save_to_dir='augmented_data',   # <--- NEW\n",
    "    save_prefix='aug',                # filename prefix\n",
    "    save_format='png'                # format\n",
    ")"
   ]
  },
  {
   "cell_type": "code",
   "execution_count": 12,
   "id": "8fbbe6db",
   "metadata": {},
   "outputs": [],
   "source": [
    "# Generate and save 1000 augmented images\n",
    "for i in range(1000 // 16):   # 1000 images / batch size 16\n",
    "    next(train_generator) "
   ]
  },
  {
   "cell_type": "markdown",
   "id": "3132c5f2",
   "metadata": {},
   "source": [
    "### WE CAN ALSO DO THAT\n",
    "\n",
    "we create **CNN** model and instead of `model.fit()`, we used `mode.fit_generator()` for data augmentation"
   ]
  }
 ],
 "metadata": {
  "kernelspec": {
   "display_name": "Python 3",
   "language": "python",
   "name": "python3"
  },
  "language_info": {
   "codemirror_mode": {
    "name": "ipython",
    "version": 3
   },
   "file_extension": ".py",
   "mimetype": "text/x-python",
   "name": "python",
   "nbconvert_exporter": "python",
   "pygments_lexer": "ipython3",
   "version": "3.13.7"
  }
 },
 "nbformat": 4,
 "nbformat_minor": 5
}
