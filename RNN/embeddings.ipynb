{
 "cells": [
  {
   "cell_type": "code",
   "execution_count": 1,
   "id": "e5447b52",
   "metadata": {},
   "outputs": [],
   "source": [
    "texts = [\n",
    "    \"The cat sat on the mat.\",\n",
    "    \"The dog barked loudly at night.\",\n",
    "    \"I love eating apples and bananas.\",\n",
    "    \"She is reading a book in the library.\",\n",
    "    \"The quick brown fox jumps over the lazy dog.\",\n",
    "    \"Machine learning is a branch of artificial intelligence.\",\n",
    "    \"Deep learning models need a lot of data.\",\n",
    "    \"The weather today is sunny and bright.\",\n",
    "    \"Natural language processing helps computers understand text.\",\n",
    "    \"He bought fresh vegetables from the market.\"\n",
    "]\n"
   ]
  },
  {
   "cell_type": "code",
   "execution_count": 2,
   "id": "90236033",
   "metadata": {},
   "outputs": [],
   "source": [
    "from tensorflow.keras.preprocessing.text import Tokenizer"
   ]
  },
  {
   "cell_type": "code",
   "execution_count": 4,
   "id": "37857cb7",
   "metadata": {},
   "outputs": [],
   "source": [
    "tokenizer = Tokenizer(oov_token='<nothing>')"
   ]
  },
  {
   "cell_type": "code",
   "execution_count": 5,
   "id": "691b2f4a",
   "metadata": {},
   "outputs": [],
   "source": [
    "tokenizer.fit_on_texts(texts)"
   ]
  },
  {
   "cell_type": "code",
   "execution_count": 13,
   "id": "26377cf0",
   "metadata": {},
   "outputs": [
    {
     "data": {
      "text/plain": [
       "58"
      ]
     },
     "execution_count": 13,
     "metadata": {},
     "output_type": "execute_result"
    }
   ],
   "source": [
    "len(tokenizer.word_index)"
   ]
  },
  {
   "cell_type": "code",
   "execution_count": 8,
   "id": "cbd59729",
   "metadata": {},
   "outputs": [
    {
     "data": {
      "text/plain": [
       "OrderedDict([('the', 8),\n",
       "             ('cat', 1),\n",
       "             ('sat', 1),\n",
       "             ('on', 1),\n",
       "             ('mat', 1),\n",
       "             ('dog', 2),\n",
       "             ('barked', 1),\n",
       "             ('loudly', 1),\n",
       "             ('at', 1),\n",
       "             ('night', 1),\n",
       "             ('i', 1),\n",
       "             ('love', 1),\n",
       "             ('eating', 1),\n",
       "             ('apples', 1),\n",
       "             ('and', 2),\n",
       "             ('bananas', 1),\n",
       "             ('she', 1),\n",
       "             ('is', 3),\n",
       "             ('reading', 1),\n",
       "             ('a', 3),\n",
       "             ('book', 1),\n",
       "             ('in', 1),\n",
       "             ('library', 1),\n",
       "             ('quick', 1),\n",
       "             ('brown', 1),\n",
       "             ('fox', 1),\n",
       "             ('jumps', 1),\n",
       "             ('over', 1),\n",
       "             ('lazy', 1),\n",
       "             ('machine', 1),\n",
       "             ('learning', 2),\n",
       "             ('branch', 1),\n",
       "             ('of', 2),\n",
       "             ('artificial', 1),\n",
       "             ('intelligence', 1),\n",
       "             ('deep', 1),\n",
       "             ('models', 1),\n",
       "             ('need', 1),\n",
       "             ('lot', 1),\n",
       "             ('data', 1),\n",
       "             ('weather', 1),\n",
       "             ('today', 1),\n",
       "             ('sunny', 1),\n",
       "             ('bright', 1),\n",
       "             ('natural', 1),\n",
       "             ('language', 1),\n",
       "             ('processing', 1),\n",
       "             ('helps', 1),\n",
       "             ('computers', 1),\n",
       "             ('understand', 1),\n",
       "             ('text', 1),\n",
       "             ('he', 1),\n",
       "             ('bought', 1),\n",
       "             ('fresh', 1),\n",
       "             ('vegetables', 1),\n",
       "             ('from', 1),\n",
       "             ('market', 1)])"
      ]
     },
     "execution_count": 8,
     "metadata": {},
     "output_type": "execute_result"
    }
   ],
   "source": [
    "tokenizer.word_counts"
   ]
  },
  {
   "cell_type": "code",
   "execution_count": 7,
   "id": "2257d02f",
   "metadata": {},
   "outputs": [],
   "source": [
    "sequences = tokenizer.texts_to_sequences(texts)"
   ]
  },
  {
   "cell_type": "code",
   "execution_count": 8,
   "id": "11ee5da7",
   "metadata": {},
   "outputs": [
    {
     "data": {
      "text/plain": [
       "[[2, 9, 10, 11, 2, 12],\n",
       " [2, 5, 13, 14, 15, 16],\n",
       " [17, 18, 19, 20, 6, 21],\n",
       " [22, 3, 23, 4, 24, 25, 2, 26],\n",
       " [2, 27, 28, 29, 30, 31, 2, 32, 5],\n",
       " [33, 7, 3, 4, 34, 8, 35, 36],\n",
       " [37, 7, 38, 39, 4, 40, 8, 41],\n",
       " [2, 42, 43, 3, 44, 6, 45],\n",
       " [46, 47, 48, 49, 50, 51, 52],\n",
       " [53, 54, 55, 56, 57, 2, 58]]"
      ]
     },
     "execution_count": 8,
     "metadata": {},
     "output_type": "execute_result"
    }
   ],
   "source": [
    "sequences"
   ]
  },
  {
   "cell_type": "markdown",
   "id": "51327083",
   "metadata": {},
   "source": [
    "Add Padding"
   ]
  },
  {
   "cell_type": "code",
   "execution_count": 9,
   "id": "5423e56a",
   "metadata": {},
   "outputs": [],
   "source": [
    "from keras.utils import pad_sequences"
   ]
  },
  {
   "cell_type": "code",
   "execution_count": 10,
   "id": "16c81faf",
   "metadata": {},
   "outputs": [],
   "source": [
    "sequences = pad_sequences(sequences, padding='post')"
   ]
  },
  {
   "cell_type": "code",
   "execution_count": 15,
   "id": "8d0c1cfc",
   "metadata": {},
   "outputs": [
    {
     "data": {
      "text/plain": [
       "9"
      ]
     },
     "execution_count": 15,
     "metadata": {},
     "output_type": "execute_result"
    }
   ],
   "source": [
    "len(sequences[0])"
   ]
  },
  {
   "cell_type": "code",
   "execution_count": 12,
   "id": "3c9387ab",
   "metadata": {},
   "outputs": [],
   "source": [
    "from keras.layers import Dense, Embedding, SimpleRNN, Flatten\n",
    "from keras.models import Sequential"
   ]
  },
  {
   "cell_type": "code",
   "execution_count": 19,
   "id": "16c03793",
   "metadata": {},
   "outputs": [
    {
     "name": "stderr",
     "output_type": "stream",
     "text": [
      "c:\\Users\\user\\AppData\\Local\\Programs\\Python\\Python313\\Lib\\site-packages\\keras\\src\\layers\\core\\embedding.py:97: UserWarning: Argument `input_length` is deprecated. Just remove it.\n",
      "  warnings.warn(\n"
     ]
    },
    {
     "data": {
      "text/html": [
       "<pre style=\"white-space:pre;overflow-x:auto;line-height:normal;font-family:Menlo,'DejaVu Sans Mono',consolas,'Courier New',monospace\"><span style=\"font-weight: bold\">Model: \"sequential_1\"</span>\n",
       "</pre>\n"
      ],
      "text/plain": [
       "\u001b[1mModel: \"sequential_1\"\u001b[0m\n"
      ]
     },
     "metadata": {},
     "output_type": "display_data"
    },
    {
     "data": {
      "text/html": [
       "<pre style=\"white-space:pre;overflow-x:auto;line-height:normal;font-family:Menlo,'DejaVu Sans Mono',consolas,'Courier New',monospace\">┏━━━━━━━━━━━━━━━━━━━━━━━━━━━━━━━━━┳━━━━━━━━━━━━━━━━━━━━━━━━┳━━━━━━━━━━━━━━━┓\n",
       "┃<span style=\"font-weight: bold\"> Layer (type)                    </span>┃<span style=\"font-weight: bold\"> Output Shape           </span>┃<span style=\"font-weight: bold\">       Param # </span>┃\n",
       "┡━━━━━━━━━━━━━━━━━━━━━━━━━━━━━━━━━╇━━━━━━━━━━━━━━━━━━━━━━━━╇━━━━━━━━━━━━━━━┩\n",
       "│ embedding_1 (<span style=\"color: #0087ff; text-decoration-color: #0087ff\">Embedding</span>)         │ ?                      │   <span style=\"color: #00af00; text-decoration-color: #00af00\">0</span> (unbuilt) │\n",
       "└─────────────────────────────────┴────────────────────────┴───────────────┘\n",
       "</pre>\n"
      ],
      "text/plain": [
       "┏━━━━━━━━━━━━━━━━━━━━━━━━━━━━━━━━━┳━━━━━━━━━━━━━━━━━━━━━━━━┳━━━━━━━━━━━━━━━┓\n",
       "┃\u001b[1m \u001b[0m\u001b[1mLayer (type)                   \u001b[0m\u001b[1m \u001b[0m┃\u001b[1m \u001b[0m\u001b[1mOutput Shape          \u001b[0m\u001b[1m \u001b[0m┃\u001b[1m \u001b[0m\u001b[1m      Param #\u001b[0m\u001b[1m \u001b[0m┃\n",
       "┡━━━━━━━━━━━━━━━━━━━━━━━━━━━━━━━━━╇━━━━━━━━━━━━━━━━━━━━━━━━╇━━━━━━━━━━━━━━━┩\n",
       "│ embedding_1 (\u001b[38;5;33mEmbedding\u001b[0m)         │ ?                      │   \u001b[38;5;34m0\u001b[0m (unbuilt) │\n",
       "└─────────────────────────────────┴────────────────────────┴───────────────┘\n"
      ]
     },
     "metadata": {},
     "output_type": "display_data"
    },
    {
     "data": {
      "text/html": [
       "<pre style=\"white-space:pre;overflow-x:auto;line-height:normal;font-family:Menlo,'DejaVu Sans Mono',consolas,'Courier New',monospace\"><span style=\"font-weight: bold\"> Total params: </span><span style=\"color: #00af00; text-decoration-color: #00af00\">0</span> (0.00 B)\n",
       "</pre>\n"
      ],
      "text/plain": [
       "\u001b[1m Total params: \u001b[0m\u001b[38;5;34m0\u001b[0m (0.00 B)\n"
      ]
     },
     "metadata": {},
     "output_type": "display_data"
    },
    {
     "data": {
      "text/html": [
       "<pre style=\"white-space:pre;overflow-x:auto;line-height:normal;font-family:Menlo,'DejaVu Sans Mono',consolas,'Courier New',monospace\"><span style=\"font-weight: bold\"> Trainable params: </span><span style=\"color: #00af00; text-decoration-color: #00af00\">0</span> (0.00 B)\n",
       "</pre>\n"
      ],
      "text/plain": [
       "\u001b[1m Trainable params: \u001b[0m\u001b[38;5;34m0\u001b[0m (0.00 B)\n"
      ]
     },
     "metadata": {},
     "output_type": "display_data"
    },
    {
     "data": {
      "text/html": [
       "<pre style=\"white-space:pre;overflow-x:auto;line-height:normal;font-family:Menlo,'DejaVu Sans Mono',consolas,'Courier New',monospace\"><span style=\"font-weight: bold\"> Non-trainable params: </span><span style=\"color: #00af00; text-decoration-color: #00af00\">0</span> (0.00 B)\n",
       "</pre>\n"
      ],
      "text/plain": [
       "\u001b[1m Non-trainable params: \u001b[0m\u001b[38;5;34m0\u001b[0m (0.00 B)\n"
      ]
     },
     "metadata": {},
     "output_type": "display_data"
    }
   ],
   "source": [
    "model = Sequential()\n",
    "\n",
    "model.add(Embedding(59, output_dim=2, input_length=9))\n",
    "\n",
    "model.summary()"
   ]
  },
  {
   "cell_type": "code",
   "execution_count": 20,
   "id": "8f19fe33",
   "metadata": {},
   "outputs": [],
   "source": [
    "model.compile('adam', 'accuracy')"
   ]
  },
  {
   "cell_type": "code",
   "execution_count": 21,
   "id": "6c453f9b",
   "metadata": {},
   "outputs": [
    {
     "name": "stdout",
     "output_type": "stream",
     "text": [
      "\u001b[1m1/1\u001b[0m \u001b[32m━━━━━━━━━━━━━━━━━━━━\u001b[0m\u001b[37m\u001b[0m \u001b[1m0s\u001b[0m 84ms/step\n"
     ]
    }
   ],
   "source": [
    "pred = model.predict(sequences)"
   ]
  },
  {
   "cell_type": "code",
   "execution_count": 22,
   "id": "41545daa",
   "metadata": {},
   "outputs": [
    {
     "data": {
      "text/plain": [
       "array([[[-0.02204168, -0.02011515],\n",
       "        [ 0.04681997, -0.00184946],\n",
       "        [-0.0450854 , -0.03032037],\n",
       "        [-0.02931384, -0.04649067],\n",
       "        [-0.02204168, -0.02011515],\n",
       "        [ 0.03064461,  0.01170896],\n",
       "        [-0.0035763 ,  0.02749667],\n",
       "        [-0.0035763 ,  0.02749667],\n",
       "        [-0.0035763 ,  0.02749667]],\n",
       "\n",
       "       [[-0.02204168, -0.02011515],\n",
       "        [-0.03426396, -0.00328396],\n",
       "        [ 0.04235715,  0.04311204],\n",
       "        [ 0.02875402, -0.04086516],\n",
       "        [-0.034506  , -0.03133611],\n",
       "        [-0.01192902, -0.04750932],\n",
       "        [-0.0035763 ,  0.02749667],\n",
       "        [-0.0035763 ,  0.02749667],\n",
       "        [-0.0035763 ,  0.02749667]],\n",
       "\n",
       "       [[-0.00032787,  0.03364216],\n",
       "        [-0.01332609, -0.03732177],\n",
       "        [ 0.00252342,  0.02350614],\n",
       "        [-0.01744721, -0.03480802],\n",
       "        [ 0.04509679, -0.02013871],\n",
       "        [-0.02620434,  0.01190288],\n",
       "        [-0.0035763 ,  0.02749667],\n",
       "        [-0.0035763 ,  0.02749667],\n",
       "        [-0.0035763 ,  0.02749667]],\n",
       "\n",
       "       [[ 0.00865235, -0.04153415],\n",
       "        [ 0.00961902, -0.0194762 ],\n",
       "        [-0.00897903, -0.00800182],\n",
       "        [-0.00055648,  0.02767492],\n",
       "        [ 0.02634604, -0.0051643 ],\n",
       "        [-0.00644215, -0.04284773],\n",
       "        [-0.02204168, -0.02011515],\n",
       "        [-0.03061721, -0.00862027],\n",
       "        [-0.0035763 ,  0.02749667]],\n",
       "\n",
       "       [[-0.02204168, -0.02011515],\n",
       "        [ 0.02725616, -0.0269097 ],\n",
       "        [-0.00586952, -0.00487594],\n",
       "        [-0.02883011, -0.04804956],\n",
       "        [ 0.0232111 ,  0.01681528],\n",
       "        [ 0.02134931,  0.04401174],\n",
       "        [-0.02204168, -0.02011515],\n",
       "        [-0.02369025, -0.0023355 ],\n",
       "        [-0.03426396, -0.00328396]],\n",
       "\n",
       "       [[-0.04692421,  0.0279034 ],\n",
       "        [ 0.02959615,  0.00356378],\n",
       "        [ 0.00961902, -0.0194762 ],\n",
       "        [-0.00055648,  0.02767492],\n",
       "        [ 0.0188759 , -0.01702529],\n",
       "        [-0.0003938 ,  0.02802998],\n",
       "        [-0.00399002,  0.00606171],\n",
       "        [ 0.01174884,  0.0279888 ],\n",
       "        [-0.0035763 ,  0.02749667]],\n",
       "\n",
       "       [[ 0.02696348, -0.00062407],\n",
       "        [ 0.02959615,  0.00356378],\n",
       "        [-0.00234002,  0.03544003],\n",
       "        [-0.00590634, -0.01471924],\n",
       "        [-0.00055648,  0.02767492],\n",
       "        [-0.04358285,  0.00269365],\n",
       "        [-0.0003938 ,  0.02802998],\n",
       "        [-0.03803203,  0.01198032],\n",
       "        [-0.0035763 ,  0.02749667]],\n",
       "\n",
       "       [[-0.02204168, -0.02011515],\n",
       "        [ 0.03353839, -0.01613852],\n",
       "        [ 0.04438878, -0.00722969],\n",
       "        [ 0.00961902, -0.0194762 ],\n",
       "        [-0.03000635,  0.04212416],\n",
       "        [ 0.04509679, -0.02013871],\n",
       "        [ 0.02539236,  0.03478714],\n",
       "        [-0.0035763 ,  0.02749667],\n",
       "        [-0.0035763 ,  0.02749667]],\n",
       "\n",
       "       [[-0.01129155, -0.04639899],\n",
       "        [-0.02749791,  0.03017552],\n",
       "        [-0.017144  , -0.04719131],\n",
       "        [ 0.00539012, -0.03613419],\n",
       "        [-0.00983977, -0.02470914],\n",
       "        [-0.02594765,  0.0092095 ],\n",
       "        [-0.03840221,  0.01667178],\n",
       "        [-0.0035763 ,  0.02749667],\n",
       "        [-0.0035763 ,  0.02749667]],\n",
       "\n",
       "       [[-0.04552883,  0.02078428],\n",
       "        [ 0.02341316, -0.01821752],\n",
       "        [-0.01549188,  0.01300159],\n",
       "        [-0.04527806,  0.0168654 ],\n",
       "        [-0.02462351, -0.02757055],\n",
       "        [-0.02204168, -0.02011515],\n",
       "        [-0.02925948,  0.00416994],\n",
       "        [-0.0035763 ,  0.02749667],\n",
       "        [-0.0035763 ,  0.02749667]]], dtype=float32)"
      ]
     },
     "execution_count": 22,
     "metadata": {},
     "output_type": "execute_result"
    }
   ],
   "source": [
    "pred"
   ]
  },
  {
   "cell_type": "code",
   "execution_count": null,
   "id": "ee89a674",
   "metadata": {},
   "outputs": [],
   "source": []
  }
 ],
 "metadata": {
  "kernelspec": {
   "display_name": "Python 3",
   "language": "python",
   "name": "python3"
  },
  "language_info": {
   "codemirror_mode": {
    "name": "ipython",
    "version": 3
   },
   "file_extension": ".py",
   "mimetype": "text/x-python",
   "name": "python",
   "nbconvert_exporter": "python",
   "pygments_lexer": "ipython3",
   "version": "3.13.7"
  }
 },
 "nbformat": 4,
 "nbformat_minor": 5
}
